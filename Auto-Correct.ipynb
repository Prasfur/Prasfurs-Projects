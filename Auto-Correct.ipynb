{
 "cells": [
  {
   "cell_type": "code",
   "execution_count": 69,
   "metadata": {},
   "outputs": [],
   "source": [
    "import re\n",
    "import numpy as np\n",
    "import pandas as pd"
   ]
  },
  {
   "cell_type": "code",
   "execution_count": 95,
   "metadata": {},
   "outputs": [
    {
     "data": {
      "text/html": [
       "<div>\n",
       "<style scoped>\n",
       "    .dataframe tbody tr th:only-of-type {\n",
       "        vertical-align: middle;\n",
       "    }\n",
       "\n",
       "    .dataframe tbody tr th {\n",
       "        vertical-align: top;\n",
       "    }\n",
       "\n",
       "    .dataframe thead th {\n",
       "        text-align: right;\n",
       "    }\n",
       "</style>\n",
       "<table border=\"1\" class=\"dataframe\">\n",
       "  <thead>\n",
       "    <tr style=\"text-align: right;\">\n",
       "      <th></th>\n",
       "      <th>word</th>\n",
       "      <th>count</th>\n",
       "    </tr>\n",
       "  </thead>\n",
       "  <tbody>\n",
       "    <tr>\n",
       "      <th>0</th>\n",
       "      <td>the</td>\n",
       "      <td>23135851162</td>\n",
       "    </tr>\n",
       "    <tr>\n",
       "      <th>1</th>\n",
       "      <td>of</td>\n",
       "      <td>13151942776</td>\n",
       "    </tr>\n",
       "    <tr>\n",
       "      <th>2</th>\n",
       "      <td>and</td>\n",
       "      <td>12997637966</td>\n",
       "    </tr>\n",
       "    <tr>\n",
       "      <th>3</th>\n",
       "      <td>to</td>\n",
       "      <td>12136980858</td>\n",
       "    </tr>\n",
       "    <tr>\n",
       "      <th>4</th>\n",
       "      <td>a</td>\n",
       "      <td>9081174698</td>\n",
       "    </tr>\n",
       "  </tbody>\n",
       "</table>\n",
       "</div>"
      ],
      "text/plain": [
       "  word        count\n",
       "0  the  23135851162\n",
       "1   of  13151942776\n",
       "2  and  12997637966\n",
       "3   to  12136980858\n",
       "4    a   9081174698"
      ]
     },
     "execution_count": 95,
     "metadata": {},
     "output_type": "execute_result"
    }
   ],
   "source": [
    "df=pd.read_csv('words.csv')\n",
    "df.head()"
   ]
  },
  {
   "cell_type": "code",
   "execution_count": 96,
   "metadata": {},
   "outputs": [
    {
     "data": {
      "text/plain": [
       "(333333, 2)"
      ]
     },
     "execution_count": 96,
     "metadata": {},
     "output_type": "execute_result"
    }
   ],
   "source": [
    "df.shape"
   ]
  },
  {
   "cell_type": "code",
   "execution_count": 97,
   "metadata": {},
   "outputs": [],
   "source": [
    "vocab=list(df['word'])"
   ]
  },
  {
   "cell_type": "code",
   "execution_count": 98,
   "metadata": {},
   "outputs": [],
   "source": [
    "def delete_letter(word):\n",
    "    delete_l=[]\n",
    "    split_l=[]\n",
    "    temp=word\n",
    "    for i in range(len(temp)):\n",
    "        try:\n",
    "            delete_l.append(temp.replace(temp[i],''))\n",
    "            split_l.append((temp[:i],temp[i:len(temp)]))\n",
    "        except:\n",
    "            pass\n",
    "    return delete_l"
   ]
  },
  {
   "cell_type": "code",
   "execution_count": 99,
   "metadata": {},
   "outputs": [],
   "source": [
    "def switch_letter(word): \n",
    "    switch_l=[]\n",
    "    split_l=[]\n",
    "    for i in range(len(word)):\n",
    "        temp=word\n",
    "        split_l.append((temp[:i],temp[i:len(temp)]))\n",
    "        lt=list(word)\n",
    "        if i<len(word)-1:\n",
    "            c=lt[i]\n",
    "            lt[i]=lt[i+1]\n",
    "            lt[i+1]=c\n",
    "            switch_l.append(''.join(lt))\n",
    "    return switch_l"
   ]
  },
  {
   "cell_type": "code",
   "execution_count": 100,
   "metadata": {},
   "outputs": [],
   "source": [
    "def replace_letter(word):\n",
    "    letters='abcdefghijklmnopqrstuvwxyz'\n",
    "    replace_l=[]\n",
    "    split_l=[]\n",
    "    replace_set=set()\n",
    "    for i in range(len(word)):\n",
    "        temp=word\n",
    "        split_l.append((temp[:i],temp[i:len(temp)]))\n",
    "    for i in range(len(word)):\n",
    "        lt=list(word)\n",
    "        for y in letters:\n",
    "            lt[i]=y\n",
    "            replace_set.add(''.join(lt))\n",
    "    replace_set.discard(word)\n",
    "    replace_l = sorted(list(replace_set))\n",
    "    return replace_l"
   ]
  },
  {
   "cell_type": "code",
   "execution_count": 101,
   "metadata": {},
   "outputs": [],
   "source": [
    "def insert_letter(word):\n",
    "    letters='abcdefghijklmnopqrstuvwxyz'\n",
    "    insert_l=[]\n",
    "    split_l=[]\n",
    "    for i in range(len(word)+1):\n",
    "        temp=word\n",
    "        split_l.append((temp[:i],temp[i:len(temp)]))\n",
    "        for j in letters:\n",
    "            lt=list(word)\n",
    "            if i<len(word):\n",
    "                lt.insert(i,j)\n",
    "                no=''.join(lt)\n",
    "                insert_l.append(no)\n",
    "            else:\n",
    "                lt.append(j)\n",
    "                no2=''.join(lt)\n",
    "                insert_l.append(no2)\n",
    "    return insert_l"
   ]
  },
  {
   "cell_type": "code",
   "execution_count": 102,
   "metadata": {},
   "outputs": [],
   "source": [
    "def edit_one_letter(word,allow_switches=True):\n",
    "    edit_one_set=set()\n",
    "    dt=set(delete_letter(word))\n",
    "    if allow_switches==True:\n",
    "        dt=dt.union(set(switch_letter(word)))\n",
    "    dt=dt.union(set(insert_letter(word)))\n",
    "    edit_one_set=dt.union(set(replace_letter(word)))\n",
    "    edit_one_set.discard(word)\n",
    "    return edit_one_set"
   ]
  },
  {
   "cell_type": "code",
   "execution_count": 103,
   "metadata": {},
   "outputs": [],
   "source": [
    "def edit_two_letters(word,allow_switches=True):\n",
    "    edit_two_set=set()\n",
    "    out1=edit_one_letter(word,True)\n",
    "    for i in out1:\n",
    "        edit_two_set=edit_two_set.union(edit_one_letter(i,True))\n",
    "    return edit_two_set"
   ]
  },
  {
   "cell_type": "code",
   "execution_count": 104,
   "metadata": {},
   "outputs": [],
   "source": [
    "import enchant\n",
    "def get_corrections(word,probs,vocab):\n",
    "    suggestions=[]\n",
    "    pro=[]\n",
    "    d=enchant.Dict(\"en_US\")\n",
    "    if d.check(word)==False:\n",
    "        out1=edit_one_letter(word,True)\n",
    "        out2=edit_two_letters(word,True)\n",
    "        for i in out1:\n",
    "            if i in vocab and d.check(i)==True:\n",
    "                suggestions.append(i)\n",
    "        for j in out2:\n",
    "            if j in vocab and d.check(j)==True and j not in suggestions:\n",
    "                suggestions.append(j)\n",
    "    pro.sort()\n",
    "    if len(pro)==0 and d.check(word)==False:\n",
    "        suggestions.append(\"No Suggestions\")\n",
    "    try:\n",
    "        suggestions=suggestions[:5]\n",
    "    except:\n",
    "        pass\n",
    "    return suggestions"
   ]
  },
  {
   "cell_type": "code",
   "execution_count": 105,
   "metadata": {},
   "outputs": [
    {
     "name": "stdout",
     "output_type": "stream",
     "text": [
      "Enter your paragraph: Hey deat! Whatsup? Is evrything phine?\n"
     ]
    }
   ],
   "source": [
    "para_inp=input(\"Enter your paragraph: \")\n",
    "punctuations= '''!()-[]{};:'\"\\,<>./?@#$%^&*_~'''\n",
    "no_punct=\"\"\n",
    "for char in para_inp:\n",
    "    if char not in punctuations:\n",
    "        no_punct=no_punct+char\n",
    "x=no_punct.lower().split()\n",
    "lt=[]\n",
    "wd=[]\n",
    "for i in x:\n",
    "    lt.append(\" \".join(get_corrections(i,probs,vocab)))\n",
    "    wd.append(i)\n",
    "dic={\"Misspelled Words\":wd,\"Suggestions\":lt}"
   ]
  },
  {
   "cell_type": "code",
   "execution_count": 133,
   "metadata": {},
   "outputs": [
    {
     "data": {
      "text/html": [
       "<div>\n",
       "<style scoped>\n",
       "    .dataframe tbody tr th:only-of-type {\n",
       "        vertical-align: middle;\n",
       "    }\n",
       "\n",
       "    .dataframe tbody tr th {\n",
       "        vertical-align: top;\n",
       "    }\n",
       "\n",
       "    .dataframe thead th {\n",
       "        text-align: right;\n",
       "    }\n",
       "</style>\n",
       "<table border=\"1\" class=\"dataframe\">\n",
       "  <thead>\n",
       "    <tr style=\"text-align: right;\">\n",
       "      <th></th>\n",
       "      <th>Misspelled Words</th>\n",
       "      <th>Suggestions</th>\n",
       "    </tr>\n",
       "  </thead>\n",
       "  <tbody>\n",
       "    <tr>\n",
       "      <th>0</th>\n",
       "      <td>deat</td>\n",
       "      <td>teat feat dept eat seat</td>\n",
       "    </tr>\n",
       "    <tr>\n",
       "      <th>1</th>\n",
       "      <td>whatsup</td>\n",
       "      <td>catsup whatsit whats</td>\n",
       "    </tr>\n",
       "    <tr>\n",
       "      <th>2</th>\n",
       "      <td>evrything</td>\n",
       "      <td>everything earthing</td>\n",
       "    </tr>\n",
       "    <tr>\n",
       "      <th>3</th>\n",
       "      <td>phine</td>\n",
       "      <td>pine whine phone thine chine</td>\n",
       "    </tr>\n",
       "  </tbody>\n",
       "</table>\n",
       "</div>"
      ],
      "text/plain": [
       "  Misspelled Words                   Suggestions\n",
       "0             deat       teat feat dept eat seat\n",
       "1          whatsup         catsup whatsit whats \n",
       "2        evrything          everything earthing \n",
       "3            phine  pine whine phone thine chine"
      ]
     },
     "execution_count": 133,
     "metadata": {},
     "output_type": "execute_result"
    }
   ],
   "source": [
    "aut=pd.DataFrame(dic)\n",
    "aut"
   ]
  }
 ],
 "metadata": {
  "kernelspec": {
   "display_name": "Python 3",
   "language": "python",
   "name": "python3"
  },
  "language_info": {
   "codemirror_mode": {
    "name": "ipython",
    "version": 3
   },
   "file_extension": ".py",
   "mimetype": "text/x-python",
   "name": "python",
   "nbconvert_exporter": "python",
   "pygments_lexer": "ipython3",
   "version": "3.7.6"
  }
 },
 "nbformat": 4,
 "nbformat_minor": 4
}
